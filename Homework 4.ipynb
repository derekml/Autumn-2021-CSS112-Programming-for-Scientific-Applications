{
 "cells": [
  {
   "cell_type": "markdown",
   "id": "8cc5fe47",
   "metadata": {},
   "source": [
    "# Homework 4: Chapters 6 and 7"
   ]
  },
  {
   "cell_type": "markdown",
   "id": "7d2e9fe7",
   "metadata": {},
   "source": [
    "Problem 1: Problem: The following data is from the \"2012 Adult Striped Bass Tagging Cruise Report\", which is part of the California Department of Fish and Wildlife's Striped Bass study in the Delta Bay Region.\n",
    "\n",
    "| Tag Number | Days at Large | Length at Tagging (cm FL) | Length at Recapture (cm FL) |\n",
    "|:----------:|--------------:|--------------------------:|----------------------------:|\n",
    "| 270047 | 1839 | 50 | 63 |\n",
    "| F01411 | 1836 | 58 | 60 |\n",
    "| 281646 | 392 | 55 | 65 |\n",
    "| 283289 | 380 | 40 | 50 |\n",
    "| 281494 | 372 | 44 | 49 |\n",
    "| 281949 | 371 | 42 | 47 |\n",
    "| 282341 | 365 | 47 | 54 |\n",
    "| F01757 | 365 | 54 | 57 |\n",
    "| 282088 | 364 | 49 | 58 |\n",
    "| 282177 | 364 | 41 | 44 |\n",
    "| 283134 | 362 | 46 | 51 |\n",
    "| 283590 | 362 | 43 | 48 |\n",
    "| 284878 | 359 | 40 | 43 |\n",
    "| Y11946 | 359 | 52 | 57 |\n",
    "| 283671 | 358 | 50 | 52 |\n",
    "| 283630 | 349 | 43 | 49 |\n",
    "| 284019 | 349 | 43 | 50 |\n",
    "| 284287 | 343 | 41 | 48 |\n",
    "| 284838 | 342 | 55 | 59 |\n",
    "| Y11931 | 337 | 38 | 49 |\n",
    "| 284886 | 330 | 43 | 51 |\n",
    "\n",
    "Arrays are provided in the following cell.\n",
    "\n",
    "Using array syntax, calculate the average length grown per year for each fish, assuming that each year is 365 days (these fish were tagged and collected between leap years).\n",
    "$$g = \\frac{l_r - l_t}{d} * 365$$\n",
    "$g$ = average length grown per year  \n",
    "$l_r$ = length at recapture  \n",
    "$l_t$ = length at tagging  \n",
    "$d$ = days at large  \n",
    "\n",
    "Then use a `for` loop  and `branching` to identify the fish that grew the fastest and the fish that grew the slowest by saving the index numbers of these two fish. Finally, using the indices previously saved, print out the tag numbers of the fastest and slowest growing fish.\n",
    "\n"
   ]
  },
  {
   "cell_type": "code",
   "execution_count": 2,
   "id": "8a502f2b",
   "metadata": {},
   "outputs": [],
   "source": [
    "import numpy as np\n",
    "\n",
    "#Arrays of data from table.\n",
    "tag_number = [\"270047\", \"F01411\", \"281646\", \"283289\", \"281494\", \"281949\",\n",
    "              \"282341\", \"F01757\", \"282088\", \"282177\", \"283134\", \"283590\",\n",
    "              \"284878\", \"Y11946\", \"283671\", \"283630\", \"284019\", \"284287\",\n",
    "              \"284838\", \"Y11931\", \"284886\"]\n",
    "days_at_large = np.array([1839, 1836, 392, 380, 372, 371, 365, 365, 364, 364, 362,\n",
    "                 362, 359, 359, 358, 349, 349, 343, 342, 337, 330], dtype='d')\n",
    "length_at_tagging = np.array([50, 58, 55, 40, 44, 42, 47, 54, 49, 41, 46, 43, 40,\n",
    "                    52, 50, 43, 43, 41, 55, 38, 43], dtype='d')\n",
    "length_at_recapture = np.array([63, 60, 65, 50, 49, 47, 54, 57, 58, 44, 51, 48,\n",
    "                       43, 57, 52, 49, 50, 48, 59, 49, 51], dtype='d')\n",
    "\n"
   ]
  },
  {
   "cell_type": "code",
   "execution_count": 47,
   "id": "960b9f10",
   "metadata": {},
   "outputs": [
    {
     "name": "stdout",
     "output_type": "stream",
     "text": [
      "Growth rates per year\n",
      "[ 2.58020663  0.39760349  9.31122449  9.60526316  4.90591398  4.91913747\n",
      "  7.          3.          9.02472527  3.00824176  5.04143646  5.04143646\n",
      "  3.05013928  5.08356546  2.03910615  6.27507163  7.32091691  7.44897959\n",
      "  4.26900585 11.91394659  8.84848485]\n",
      "Fastest growth rate:\n",
      "11.913946587537094\n",
      "ID of fastest grower:\n",
      "Y11931\n",
      "Slowest growth rate:\n",
      "0.39760348583877997\n",
      "ID of slowest grower:\n",
      "F01411\n"
     ]
    }
   ],
   "source": [
    "g = ((length_at_recapture - length_at_tagging) / days_at_large)*365\n",
    "print('Growth rates per year')\n",
    "print(g)\n",
    "\n",
    "fastest_growth = g[0]\n",
    "slowest_growth = g[0]\n",
    "\n",
    "for i in range(np.size(g)):\n",
    "    if g[i] > fastest_growth:\n",
    "        fastest_growth = g[i]\n",
    "        fastest_id = tag_number[i]\n",
    "    if g[i] < slowest_growth:\n",
    "        slowest_growth = g[i]\n",
    "        slowest_id = tag_number[i]\n",
    "        \n",
    "print('Fastest growth rate:')\n",
    "print(fastest_growth)\n",
    "print('ID of fastest grower:')\n",
    "print(fastest_id)\n",
    "print('Slowest growth rate:')\n",
    "print(slowest_growth)\n",
    "print('ID of slowest grower:')\n",
    "print(slowest_id)"
   ]
  },
  {
   "cell_type": "markdown",
   "id": "98af0111",
   "metadata": {},
   "source": [
    "---"
   ]
  },
  {
   "cell_type": "markdown",
   "id": "b39df85d",
   "metadata": {},
   "source": [
    "Problem 2:  In lab, you have a solid, spinning arm that can hold different masses at the end of the arm, and the arm can be set to different radii and different rates of spin. You gather the following data to determine which combination will give you the smallest and largest orbital angular momentum magnitudes:\n",
    "\n",
    "|radius (cm)|mass (g)|velocity (cm/s)|\n",
    "| :-: | :-: | :-: |\n",
    "|30.0|100.0|157.1|\n",
    "|25.0|200.0|135.6|\n",
    "|30.0|300.0|52.3|\n",
    "|15.0|150.0|157.1|\n",
    "|20.0|350.0|30.5|\n",
    "|5.0|500.0|135.6|\n",
    "|10.0|450.0|107.9|\n",
    "|10.0|400.0|94.2|\n",
    "|25.0|250.0|77.4|\n",
    "|15.0|50.0|149.6|\n",
    "|30.0|500.0|78.6|\n",
    "\n",
    "In a markdown cell, write a plan for accomplishing the following:\n",
    "* Use a one-dimensional `for` loop to calculate the orbital angular momentum (L) for each combination of radius (r), mass (m) and velocity (v) and store the results in an array. \n",
    "* Then, use a one-dimensional for loop and branching to determine the largest and smallest angular momentum values and print each along with their r, m, and v values. Recall that to find the angular momentum: $\\vec{L} = \\vec{r} \\times \\vec{p}$ and therefore the magnitude is: $L = rpsin(\\theta)$ where $\\vec{p} = m\\vec{v}$ and, in this case $\\theta = 90^{\\circ}$, so $L = rmv$."
   ]
  },
  {
   "cell_type": "markdown",
   "id": "8ef3a57a",
   "metadata": {},
   "source": [
    "Plan:\n",
    "- Create 2D array of the data\n",
    "- Create 1D empty array of the same rows to populate with calculated L values.\n",
    "- Create for-loop to populate the empty 1D array with new values.\n",
    "- Use nested if-statements to find which L values are smallest.\n",
    "- Print the values for r, m and v for which L is smallest."
   ]
  },
  {
   "cell_type": "code",
   "execution_count": 53,
   "id": "3401fbdf",
   "metadata": {},
   "outputs": [
    {
     "name": "stdout",
     "output_type": "stream",
     "text": [
      "[[ 30.  100.  157.1]\n",
      " [ 25.  200.  135.6]\n",
      " [ 30.  300.   52.3]\n",
      " [ 15.  150.  157.1]\n",
      " [ 20.  350.   30.5]\n",
      " [  5.  500.  135.6]\n",
      " [ 10.  450.  107.9]\n",
      " [ 10.  400.   94.2]\n",
      " [ 25.  250.   77.4]\n",
      " [ 15.   50.  149.6]\n",
      " [ 30.  500.   78.6]]\n",
      "Momentum array:\n",
      "[ 471300.  678000.  470700.  353475.  213500.  339000.  485550.  376800.\n",
      "  483750.  112200. 1179000.]\n",
      "Largest momentum:\n",
      "1179000.0\n",
      "Radius of largest momentum:\n",
      "30.0\n",
      "Mass of largest momentum:\n",
      "500.0\n",
      "Velocity of largest momentum:\n",
      "78.6\n",
      "Smallest momentum:\n",
      "112200.0\n",
      "Radius of largest momentum:\n",
      "15.0\n",
      "Mass of largest momentum:\n",
      "50.0\n",
      "Velocity of largest momentum:\n",
      "149.6\n"
     ]
    }
   ],
   "source": [
    "data = np.array([[30.0,100.0,157.1],\n",
    "                [25.0,200.0,135.6],\n",
    "                [30.0,300.0,52.3],\n",
    "                [15.0,150.0,157.1],\n",
    "                [20.0,350.0,30.5],\n",
    "                [5.0,500.0,135.6],\n",
    "                [10.0,450.0,107.9],\n",
    "                [10.0,400.0,94.2],\n",
    "                [25.0,250.0,77.4],\n",
    "                [15.0,50.0,149.6],\n",
    "                [30.0,500.0,78.6]])\n",
    "print(data)\n",
    "\n",
    "shape = np.shape(data)\n",
    "\n",
    "# new array for momentum\n",
    "momentum = np.zeros(shape[0],dtype='d')\n",
    "\n",
    "# populate new array\n",
    "for i in range(shape[0]):\n",
    "    momentum[i] = data[i,0] * data[i,1] * data[i,2]\n",
    "print('Momentum array:')\n",
    "print(momentum)\n",
    "\n",
    "# find min/max momentum\n",
    "largest_momentum = momentum[0]\n",
    "smallest_momentum = momentum[0]\n",
    "for i in range(shape[0]):\n",
    "    if momentum[i] >= largest_momentum:\n",
    "        largest_momentum = momentum[i]\n",
    "        largest_r = data[i,0]\n",
    "        largest_m = data[i,1]\n",
    "        largest_v = data[i,2]\n",
    "    if momentum[i] <= smallest_momentum:\n",
    "        smallest_momentum = momentum[i]\n",
    "        smallest_r = data[i,0]\n",
    "        smallest_m = data[i,1]\n",
    "        smallest_v = data[i,2]\n",
    "\n",
    "print('Largest momentum:')\n",
    "print(largest_momentum)\n",
    "print('Radius of largest momentum:')\n",
    "print(largest_r)\n",
    "print('Mass of largest momentum:')\n",
    "print(largest_m)\n",
    "print('Velocity of largest momentum:')\n",
    "print(largest_v)\n",
    "print('Smallest momentum:')\n",
    "print(smallest_momentum)\n",
    "print('Radius of largest momentum:')\n",
    "print(smallest_r)\n",
    "print('Mass of largest momentum:')\n",
    "print(smallest_m)\n",
    "print('Velocity of largest momentum:')\n",
    "print(smallest_v)"
   ]
  },
  {
   "cell_type": "markdown",
   "id": "9bbe3c16",
   "metadata": {},
   "source": [
    "---"
   ]
  },
  {
   "cell_type": "markdown",
   "id": "2814b5b8",
   "metadata": {},
   "source": [
    "Problem 3:  One method for determining the rate law for a chemical reaction is to measure the initial rate of a reaction.  Since the reactants are present in their highest concentrations at the start of the reaction, it is relatively straight forward to measure the initial rate. Multiple trials are run in which the concentration of each reactant is changed while others are kept constant to see what impact that change in reactant concentration has on the rate.\n",
    "\n",
    "The first step is to find two trials in which all but one reactant's concentration is kept constant.  Then you can determine the power, n,  associated with that reactant, X, using the following equation. The value of n is also called the order of the reaction with respect to that reactant.  The overall order for a reaction is the sum of the orders of all reactants involved.\n",
    "$$n=\\frac{log\\left(\\frac{Rate_1}{Rate_2}\\right)}{log\\left(\\frac{[X]_1}{[X]_2}\\right)}$$\n",
    "\n",
    "Hydrogen gas reduces nitrogen monoxide to nitrogen gas in the following reaction.\n",
    "\n",
    "$$2 H_2(g) + 2 NO (g) \\rightarrow{} 2 H_2 O (g) + N_2 (g)$$\n",
    "\n",
    "The initial reaction rates were measured for four mixtures of hydrogen and nitrogen monoxide.  Use this data for Problem for Chemistry 6-11 through 6-3.\n",
    "\n",
    "|Trial|[$H_2$]$_0$ (M)|[NO]$_0$ (M)|Initial Rate (M/s)|\n",
    "|:---:|:---:|:---:|:---:|\n",
    "|1|0.212|0.136|0.0248|\n",
    "|2|0.212|0.272|0.0991|\n",
    "|3|0.424|0.544|0.793|\n",
    "|4|0.848|0.544|1.59|\n",
    "\n",
    "Create an array for each of the sets of data; concentration of hydrogen, concentration of nitrogen monoxide, and initial rate. Be sure that the indices are the same for data from the same trial. Using the functions provided, write code that will indicate the order of each reactant, and the overall reaction order."
   ]
  },
  {
   "cell_type": "code",
   "execution_count": 8,
   "id": "58ec9678",
   "metadata": {},
   "outputs": [],
   "source": [
    "def trial_comparison(first_trial,second_trial):\n",
    "    if first_trial == second_trial:\n",
    "        answer = 'true'\n",
    "        return answer\n",
    "    else:\n",
    "        answer = 'false'\n",
    "        return answer\n",
    "    \n",
    "def calculate_order(first_concentration,second_concentration,first_rate,second_rate):\n",
    "    import numpy as np\n",
    "    term_1 = np.log10(first_rate/second_rate)\n",
    "    term_2 = np.log10(first_concentration/second_concentration)\n",
    "    order = term_1/term_2\n",
    "    return order"
   ]
  },
  {
   "cell_type": "code",
   "execution_count": 9,
   "id": "75a0ddb5",
   "metadata": {},
   "outputs": [
    {
     "name": "stdout",
     "output_type": "stream",
     "text": [
      "NO Order:\n",
      "1.998544936799613\n",
      "H2 Order:\n",
      "1.0036339944677393\n",
      "Overall reaction order:\n",
      "3.0021789312673524\n"
     ]
    }
   ],
   "source": [
    "h2 = np.array([0.212,0.212,0.424,0.848])\n",
    "no = np.array([0.136,0.272,0.544,0.544])\n",
    "initial_rate = np.array([0.0248,0.0991,0.793,1.59])\n",
    "\n",
    "for i in range(3):\n",
    "    if trial_comparison(h2[i],h2[i+1]) == 'true':\n",
    "        no_order = calculate_order(no[i],no[i+1],initial_rate[i],initial_rate[i+1])\n",
    "        print('NO Order:')\n",
    "        print(no_order)\n",
    "    if trial_comparison(no[i],no[i+1]) == 'true':\n",
    "        h2_order = calculate_order(h2[i],h2[i+1],initial_rate[i],initial_rate[i+1])\n",
    "        print('H2 Order:')\n",
    "        print(h2_order)\n",
    "\n",
    "print('Overall reaction order:')     \n",
    "print(no_order + h2_order)"
   ]
  },
  {
   "cell_type": "markdown",
   "id": "3d14367b",
   "metadata": {},
   "source": [
    "---"
   ]
  },
  {
   "cell_type": "markdown",
   "id": "40373f8d",
   "metadata": {},
   "source": [
    "Problem 4: You observe three of your friends running along a straight line. You gather the following data on their positions (in m) where each row represents a time increase of 5 seconds, with the first row at t = 0 s from when you started your observation, and each column represents a friend:\n",
    "\n",
    "|Position of Friend 1|Position of Friend 2|Position of Friend 3|\n",
    "| :-: | :-: | :-: |\n",
    "|5.0|4.0|7.0|\n",
    "|27.5|19.5|30.6|\n",
    "|50.0|36.0|53.5|\n",
    "|72.5|53.5|75.6|\n",
    "|95.0|72.0|97.0|\n",
    "|117.5|91.5|117.6|\n",
    "|140.0|112.0|137.5|\n",
    "|162.5|133.5|156.6|\n",
    "\n",
    "Using array splicing, find the 2D arrays for velocity ($\\vec{v} = \\frac{\\Delta \\vec{x}}{\\Delta t}$), and acceleration ($\\vec{a} = \\frac{\\Delta \\vec{v}}{\\Delta t}$) and put the results into new arrays. From those arrays, determine if each of your friends is speeding up, slowing down, or moving with constant speed."
   ]
  },
  {
   "cell_type": "code",
   "execution_count": 42,
   "id": "f62e38e1",
   "metadata": {},
   "outputs": [
    {
     "name": "stdout",
     "output_type": "stream",
     "text": [
      "[[22.5 15.5 23.6]\n",
      " [22.5 16.5 22.9]\n",
      " [22.5 17.5 21.5]\n",
      " [22.5 18.5 22. ]\n",
      " [22.5 19.5 20.6]\n",
      " [22.5 20.5 19.9]\n",
      " [22.5 21.5 19.1]]\n",
      "[[ 0.   1.  -0.7]\n",
      " [ 0.   1.  -1.4]\n",
      " [ 0.   1.   0.5]\n",
      " [ 0.   1.  -1.4]\n",
      " [ 0.   1.  -0.7]\n",
      " [ 0.   1.  -0.8]]\n",
      "Friend 1 at t=0\n",
      "Constant speed\n",
      "Friend 2 at t=0\n",
      "Accelerating\n",
      "Friend 3 at t=0\n",
      "Slowing down\n",
      "Friend 1 at t=1\n",
      "Constant speed\n",
      "Friend 2 at t=1\n",
      "Accelerating\n",
      "Friend 3 at t=1\n",
      "Slowing down\n",
      "Friend 1 at t=2\n",
      "Constant speed\n",
      "Friend 2 at t=2\n",
      "Accelerating\n",
      "Friend 3 at t=2\n",
      "Accelerating\n",
      "Friend 1 at t=3\n",
      "Constant speed\n",
      "Friend 2 at t=3\n",
      "Accelerating\n",
      "Friend 3 at t=3\n",
      "Slowing down\n",
      "Friend 1 at t=4\n",
      "Constant speed\n",
      "Friend 2 at t=4\n",
      "Accelerating\n",
      "Friend 3 at t=4\n",
      "Slowing down\n",
      "Friend 1 at t=5\n",
      "Constant speed\n",
      "Friend 2 at t=5\n",
      "Accelerating\n",
      "Friend 3 at t=5\n",
      "Slowing down\n"
     ]
    }
   ],
   "source": [
    "positions = np.array([[5.0,4.0,7.0],\n",
    "                     [27.5,19.5,30.6],\n",
    "                     [50.0,36.0,53.5],\n",
    "                     [72.5,53.5,75.0],\n",
    "                     [95.0,72.0,97.0],\n",
    "                     [117.5,91.5,117.6],\n",
    "                     [140.0,112.0,137.5],\n",
    "                     [162.5,133.5,156.6]])\n",
    "\n",
    "velocity = positions[1:8] - positions[0:7]\n",
    "print(velocity)\n",
    "\n",
    "acceleration = velocity[1:7] - velocity[0:6]\n",
    "print(acceleration)\n",
    "\n",
    "for i in range(6):\n",
    "    for j in range(3):\n",
    "        if acceleration[i,j] > 0:\n",
    "            print('Friend ' + str(j+1) + ' at t=' + str(i))\n",
    "            print('Accelerating')\n",
    "        if acceleration[i,j] == 0:\n",
    "            print('Friend ' + str(j+1) + ' at t=' + str(i))\n",
    "            print('Constant speed')\n",
    "        if acceleration[i,j] < 0:\n",
    "            print('Friend ' + str(j+1) + ' at t=' + str(i))\n",
    "            print('Slowing down')\n"
   ]
  },
  {
   "cell_type": "markdown",
   "id": "aa17899e",
   "metadata": {},
   "source": [
    "---"
   ]
  },
  {
   "cell_type": "markdown",
   "id": "b64abc74",
   "metadata": {},
   "source": [
    "Problem 5: For your research project, you're modeling a biophysical process where a photoreceptor interacts with a magnetic field such that different angles of the magnetic field relative to the biological sensor produce a different amount of yield, a.k.a. chemical product (http://www.ks.uiuc.edu/Research/cryptochrome/). Since the photoreceptors can move around in a biological environment, you model the movement at five different times, and end up with several yield amounts for each angle that you average to get a dependence of the yield on the angle (your end result should be a 1-D array where each element is the average over the 5 time periods of the Yield Results for each angle). Once you've calculated the average yield over time per angle, graph the result with a basic plot. Note that the yield is normalized to be unitless and to range between 0 and 1.\n",
    "\n",
    "| Angle (radians) | Yield Result 1| Yield Result 2| Yield Result 3| Yield Result 4| Yield Result 5|\n",
    "| :-: | :-: | :-: | :-: | :-: | :-: |\n",
    "|0|0.95|0.97|1.00|0.96|0.99|\n",
    "|$\\pi$/8|0.85|0.86|0.84|0.85|0.86|\n",
    "|$\\pi$/4|0.48|0.50|0.51|0.49|0.52|\n",
    "|3$\\pi$/8|0.13|0.15|0.13|0.14|0.16|\n",
    "|$\\pi$/2|0.01|0.00|0.00|0.02|0.01|\n",
    "|5$\\pi$/8|0.15|0.15|0.13|0.14|0.14|\n",
    "|3$\\pi$/4|0.49|0.47|0.51|0.51|0.48|\n",
    "|7$\\pi$/8|0.85|0.83|0.83|0.84|0.85|\n",
    "|$\\pi$|1.00|0.98|0.99|0.97|0.99|\n",
    "\n",
    "Use nested looping to accomplish the task."
   ]
  },
  {
   "cell_type": "code",
   "execution_count": 7,
   "id": "ec63ea6b",
   "metadata": {},
   "outputs": [
    {
     "name": "stdout",
     "output_type": "stream",
     "text": [
      "Average yield:\n",
      "[0.974, 0.852, 0.5, 0.14200000000000002, 0.008, 0.14200000000000002, 0.492, 0.8399999999999999, 0.986]\n"
     ]
    },
    {
     "data": {
      "image/png": "[encoded data removed]",
      "text/plain": [
       "<Figure size 432x288 with 1 Axes>"
      ]
     },
     "metadata": {
      "needs_background": "light"
     },
     "output_type": "display_data"
    }
   ],
   "source": [
    "import matplotlib.pyplot as plt\n",
    "\n",
    "angle = np.array([0,np.pi/8,np.pi/4,3*np.pi/8,np.pi/2,5*np.pi/8,3*np.pi/4,7*np.pi/8,np.pi])\n",
    "\n",
    "result = np.array([[0.95,0.97,1.00,0.96,0.99],\n",
    "                 [0.85,0.86,0.84,0.85,0.86],\n",
    "                 [0.48,0.50,0.51,0.49,0.52],\n",
    "                 [0.13,0.15,0.13,0.14,0.16],\n",
    "                 [0.01,0.00,0.00,0.02,0.01],\n",
    "                 [0.15,0.15,0.13,0.14,0.14],\n",
    "                 [0.49,0.47,0.51,0.51,0.48],\n",
    "                 [0.85,0.83,0.83,0.84,0.85],\n",
    "                 [1.00,0.98,0.99,0.97,0.99]])\n",
    "\n",
    "avg = []\n",
    "\n",
    "for i in range(9):\n",
    "    if angle.any() > 0:\n",
    "        avg.append(np.mean(result[i,]))\n",
    "print('Average yield:')\n",
    "print(avg)\n",
    "\n",
    "plt.plot(angle,avg)\n",
    "plt.title('Average yield over time per angle')\n",
    "plt.xlabel('Angle (radians)')\n",
    "plt.ylabel('Yield (normalized)')\n",
    "plt.show()"
   ]
  },
  {
   "cell_type": "markdown",
   "id": "ab2c2e99",
   "metadata": {},
   "source": [
    "---"
   ]
  },
  {
   "cell_type": "markdown",
   "id": "5e74da9e",
   "metadata": {},
   "source": [
    "Problem 6:  You have synthesized a new crystalline solid in the lab.  You decide to test the ability of the crystal to absorb water from the air.  You set up an experiment in which you weigh out 5 samples of the crystal. one sample is placed in a closed container and the other 4 samples are placed in four different locations around the lab.  You measure the masses of the samples every morning for the next 5 days as recorded in this table:\n",
    "\n",
    "\n",
    "|Sample|$m_0$ (mg)|$m_1$ (mg)|$m_2$ (mg)|$m_3$ (mg)|$m_4$ (g)|$m_5$ (mg)|\n",
    "|:--:|:--:|:--:|:--:|:--:|:--:|:--:|\n",
    "|Closed|325|328|330 |322|335|345|\n",
    "|Location 1|326|330|335|340|335|355|\n",
    "|Location 2|324|350|362|355|370|365|\n",
    "|Location 3|325|340|350|363|367|374|\n",
    "|Location 4|323|333|361|359|378|377|\n",
    "\n",
    "Create a two-dimensional array to represent your data.  Create a subarray that contains the values for all locations for days 4 and 5.\n",
    "\n",
    "For each of the samples, you want to determine if there is a significant change in the mass of the crystal by using a limit of 5% relative standard deviation, RSD. For each sample you need to calculate the average, standard deviation (STD), and relative standard deviation of the daily mass measurments. \n",
    "\n",
    "$$RSD = \\frac{STD}{average}\\times100$$\n",
    "\n",
    "Write code that will calculate the relative standard deviation of each sample and report out whether there is a significant change in mass.\n",
    "\n",
    "<details>\n",
    "    <summary>Hint</summary>\n",
    "    Example of NumPy functions to use:\n",
    "\n",
    "numpy.mean(array,axis=1)  this will calculate the average for rows of an array\n",
    "    \n",
    "numpy.std(array) this will calculate the standard deviation for rows of an array.\n",
    "        </details>"
   ]
  },
  {
   "cell_type": "code",
   "execution_count": 39,
   "id": "6dc62944",
   "metadata": {},
   "outputs": [
    {
     "name": "stdout",
     "output_type": "stream",
     "text": [
      "Subarray:\n",
      "[[335 345]\n",
      " [335 355]\n",
      " [370 365]\n",
      " [367 374]\n",
      " [378 377]]\n",
      "Significant change in sample 5\n",
      "Sample averages:\n",
      "[330.8333333333333, 336.8333333333333, 354.3333333333333, 353.1666666666667, 355.1666666666667]\n",
      "Sample standard deviations:\n",
      "[7.51480021173033, 9.227073690444271, 15.040685563571305, 16.82673137863943, 20.707620712084612]\n",
      "Sample relative standard deviation:\n",
      "[2.2714761345280596, 2.739358839320417, 4.244784260650416, 4.764529885409937, 5.830395320155217]\n"
     ]
    }
   ],
   "source": [
    "mass = np.array([[325,328,330,322,335,345],\n",
    "                [326,330,335,340,335,355],\n",
    "                [324,350,362,355,370,365],\n",
    "                [325,340,350,363,367,374],\n",
    "                [323,333,361,359,378,377]])\n",
    "\n",
    "subarray = mass[:,-2:]\n",
    "print('Subarray:')\n",
    "print(subarray)\n",
    "\n",
    "average = []\n",
    "stdev = []\n",
    "rsd = []\n",
    "\n",
    "for sample in range(5):\n",
    "    average.append(np.mean(mass[sample,]))\n",
    "    stdev.append(np.std(mass[sample,]))\n",
    "    rsd.append(stdev[sample]/average[sample]*100)\n",
    "    if rsd[sample] > 5:\n",
    "        print('Significant change in sample ' + str(sample+1))\n",
    "\n",
    "\n",
    "print('Sample averages:')\n",
    "print(average)\n",
    "print('Sample standard deviations:')\n",
    "print(stdev)\n",
    "print('Sample relative standard deviation:')\n",
    "print(rsd)"
   ]
  }
 ],
 "metadata": {
  "kernelspec": {
   "display_name": "Python 3",
   "language": "python",
   "name": "python3"
  },
  "language_info": {
   "codemirror_mode": {
    "name": "ipython",
    "version": 3
   },
   "file_extension": ".py",
   "mimetype": "text/x-python",
   "name": "python",
   "nbconvert_exporter": "python",
   "pygments_lexer": "ipython3",
   "version": "3.8.8"
  }
 },
 "nbformat": 4,
 "nbformat_minor": 5
}
