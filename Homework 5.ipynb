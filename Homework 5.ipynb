{
 "cells": [
  {
   "cell_type": "markdown",
   "id": "8cc5fe47",
   "metadata": {},
   "source": [
    "# Homework 5: Chapter 9"
   ]
  },
  {
   "cell_type": "markdown",
   "id": "7d2e9fe7",
   "metadata": {},
   "source": [
    "Problem 1: The following are several yeast species associated with winemaking.\n",
    "\n",
    ">*Saccharomyces bayanus, Torulaspora delbrueckii, Zygoascus meyerae, Saccharomyces pastorianus, Saccharomyces paradoxus, Hanseniaspora uvarum, Dekkera bruxellensis, Saccharomyces cerevisiae, Citeromyces matritensis, Saccharomyces eubayanus, Lachancea kluyveri, Metschnikowia pulcherrima, Pichia fermentans, Starmerela bombicola, Pichia membranifaciens, Saccharomyces kudriawzevii*\n",
    "\n",
    "\n",
    "Pretend the above listing of species is saved as a single string `yeast_species` (provided in cell below).  Split this text into a Python list of species names, where each name is a separate element in the list and any leading or trailing whitespace around the names are removed.  Loop through the Python list and append all occurrences of the *Saccharomyces* species to a new list. String objects have a method called `startswith` that will return `True` if the string starts with a specified prefix and `False` otherwise. Use this method to search for the occurrences of the *Saccharomyces* species. Finally, print your new list of *Saccharomyces* species to the screen."
   ]
  },
  {
   "cell_type": "code",
   "execution_count": 1,
   "id": "38f9bf2f",
   "metadata": {},
   "outputs": [],
   "source": [
    "yeast_species = \"\"\"Saccharomyces bayanus, Torulaspora delbrueckii, Zygoascus meyerae,\n",
    "                Saccharomyces pastorianus, Saccharomyces paradoxus, Hanseniaspora uvarum,\n",
    "                Dekkera bruxellensis, Saccharomyces cerevisiae, Citeromyces matritensis,\n",
    "                Saccharomyces eubayanus, Lachancea kluyveri, Metschnikowia pulcherrima,\n",
    "                Pichia fermentans, Starmerela bombicola, Pichia membranifaciens,\n",
    "                Saccharomyces kudriawzevii\"\"\"\n",
    "\n"
   ]
  },
  {
   "cell_type": "code",
   "execution_count": 18,
   "id": "2c638c85",
   "metadata": {},
   "outputs": [],
   "source": [
    "import numpy as np\n",
    "import matplotlib.pyplot as plt\n",
    "import re"
   ]
  },
  {
   "cell_type": "code",
   "execution_count": 28,
   "id": "2db2b84d",
   "metadata": {},
   "outputs": [
    {
     "name": "stdout",
     "output_type": "stream",
     "text": [
      "['Saccharomyces bayanus', 'Torulaspora delbrueckii', 'Zygoascus meyerae,\\n                Saccharomyces pastorianus', 'Saccharomyces paradoxus', 'Hanseniaspora uvarum,\\n                Dekkera bruxellensis', 'Saccharomyces cerevisiae', 'Citeromyces matritensis,\\n                Saccharomyces eubayanus', 'Lachancea kluyveri', 'Metschnikowia pulcherrima,\\n                Pichia fermentans', 'Starmerela bombicola', 'Pichia membranifaciens,\\n                Saccharomyces kudriawzevii']\n",
      "['Saccharomyces bayanus', 'Saccharomyces paradoxus', 'Saccharomyces cerevisiae']\n"
     ]
    }
   ],
   "source": [
    "#string_list = re.split(',', yeast_species)\n",
    "string_list = yeast_species.split(', ')\n",
    "print(string_list)\n",
    "\n",
    "new_list = []\n",
    "\n",
    "for i in range(len(string_list)):\n",
    "    if string_list[i].startswith('Saccharomyces') == True:\n",
    "        new_list.append(string_list[i])\n",
    "    else:\n",
    "        pass\n",
    "print(new_list) "
   ]
  },
  {
   "cell_type": "markdown",
   "id": "98af0111",
   "metadata": {},
   "source": [
    "---"
   ]
  },
  {
   "cell_type": "markdown",
   "id": "b39df85d",
   "metadata": {},
   "source": [
    "Problem 2:  In lab you are conducting elastic collision experiments to explore the effects of different masses on whether or not linear momentum is conserved. You have (fictitious) data stored in a list for your first run that contains the values for 2 masses, their initial velocities, and their final velocities: \n",
    "\n",
    "> [mass1 (kg), mass2 (kg), initial_velocity_mass1 (m/s), initial_velocity_mass2 (m/s), final_velocity_mass1 (m/s), final_velocity_mass2 (m/s)]\n",
    "\n",
    "Your first data set is: \n",
    "\n",
    "> [0.5, 0.5, 1.0, 0.0, 0.0, 1.0] \n",
    "\n",
    "For your next run, you want to change mass1 to 1.0 kg without changing mass2, nor the initial velocities of the 2 masses. You decide to copy your first data and then just change mass1 and the final velocities of the two masses to 0.33 m/s for mass1 and 1.33 m/s for mass2. Complete those steps in the provided cell. Make sure your new list of data is a copy and not an alias as you do not want to over-write your first set of data. Print both lists to ensure they are different."
   ]
  },
  {
   "cell_type": "markdown",
   "id": "9bbe3c16",
   "metadata": {},
   "source": [
    "---"
   ]
  },
  {
   "cell_type": "markdown",
   "id": "2814b5b8",
   "metadata": {},
   "source": [
    "Problem 3:  The UV-VIS spectra were measured for three different cyanine type dyes.  The fictitious wavelength and absorbance data for all three dyes are stored in a textfile named *uv_vis_three_cyanine_dyes.txt*.  Write code that will read in this data, separate it out into three unique data sets, and write out the data sets into three new text files."
   ]
  },
  {
   "cell_type": "markdown",
   "id": "3d14367b",
   "metadata": {},
   "source": [
    "---"
   ]
  },
  {
   "cell_type": "markdown",
   "id": "40373f8d",
   "metadata": {},
   "source": [
    "Problem 4: A visible spectrum was collected for a compound and stored in a text file *unknown_visible_spectrum.txt*.  The file contains 4 columns: column 1 is wavelength, column 2 is the total spectrum, column 3 is the first peak, and column 4 is the second peak.  Read in this file. Create a clearly labeled set of subplots showing all three spectra clearly; total spectrum, first peak, and second peak. "
   ]
  },
  {
   "cell_type": "markdown",
   "id": "aa17899e",
   "metadata": {},
   "source": [
    "---"
   ]
  },
  {
   "cell_type": "markdown",
   "id": "b64abc74",
   "metadata": {},
   "source": [
    "Problem 5: In lab you are conducting an experiment to determine the coefficient of static friction between two materials when the materials are dry and when they have an oil added between them. To do this, you have ramps and blocks made out of the different materials. You place the blocks on the ramps and a machine slowly tilts the ramp until the moment when the block starts to slide. You measure the resulting angle at which the block just starts to move as that is the moment when static friction becomes kinetic friction and you are at the point of maximum static friction where \n",
    "\n",
    "$$f_{s, max} = \\mu_sN,$$\n",
    "\n",
    "($N$ = normal force and $\\mu_s$ = coefficient of static friction). You have a file containing the (fictitious) data you have collected that has headers in the first row and commas separating the data (a CSV file named *AnglesForCoefficientOfStaticFriction.csv*):\n",
    "\n",
    "`Material 1,Material2,Condition (oil/dry),Angle\n",
    "Brass,Steel,dry,26.57\n",
    "Brass,Steel,oil,10.76\n",
    "Carbon,Carbon,dry,8.53\n",
    "Carbon,Carbon,oil,7.41\n",
    "Cast Iron,Oak Wood,dry,25.87\n",
    "Cast Iron,Oak Wood,oil,4.57\n",
    "Cast Iron,Steel,dry,21.80\n",
    "Cast Iron,Steel,oil,11.86\n",
    "Glass,Glass,dry,43.53\n",
    "Glass,Glass,oil,16.70\n",
    "Glass,Metal,dry,30.96\n",
    "Glass,Metal,oil,14.04\n",
    "Magnesium,Magnesium,dry,30.96\n",
    "Magnesium,Magnesium,oil,4.52\n",
    "Steel,Steel,dry,38.66\n",
    "Steel,Steel,oil,9.09\n",
    "Zinc,Zinc,dry,30.96\n",
    "Zinc,Zinc,oil,2.29\n",
    "Teflon,Teflon,dry,7.41\n",
    "Teflon,Teflon,oil,2.29`\n",
    "\n",
    "By analyzing the forces on one of the blocks at the moment when it is at maximum static friction and using Newton's 2nd law with a total acceleration of $0\\ \\mathrm{m/s^2}$, you determine that\n",
    "\n",
    "$$\\mu_s = tan(\\theta).$$\n",
    "\n",
    "Read in your file of data and store the data in a list variable. Calculate $\\mu_s$ for each angle, and add another header to the first row of your data and label it `'Coefficient of Static Friction'`. Include the calculated coefficient for each row of data. Remember to convert your angles to radians, and that you will need to convert the angles from strings to floats to do calculations. Also, convert your coefficients into strings with 2 decimal places before adding them on to the data in your list variable so that all of your data values are strings. Print the contents of your modified list variable to ensure you added the new column of data correctly (you do not need to write the modified data to a file)."
   ]
  },
  {
   "cell_type": "markdown",
   "id": "ab2c2e99",
   "metadata": {},
   "source": [
    "---"
   ]
  },
  {
   "cell_type": "markdown",
   "id": "f2019fa4",
   "metadata": {},
   "source": [
    "Problem 6:  Now that you have your new data with the coefficients calculated, write the data out to a new csv file named *CoefficientsOfStaticFriction.csv*, but group the data for the `dry` condition together and the data for the `oil` condition together and remove the column for `Condition (oil/dry)` for both. Make sure to label each group with `'Dry'` or `'Oil'` respectively, and to give them each a header row before the data, minus the `'Condition (oil/dry)'` header. Remember that if you append a list from your original data to the end of a list of lists, you will want to append a **copy**.\n",
    "\n",
    "Your file should look something like this:\n",
    "\n",
    "```\n",
    "Dry\n",
    "Material 1,Material2,Angle,Coefficient of Static Friction\n",
    "Brass,Steel,26.57,0.50\n",
    "Carbon,Carbon,8.53,0.15\n",
    "Cast Iron,Oak Wood,25.87,0.48\n",
    "Cast Iron,Steel,21.80,0.40\n",
    "Glass,Glass,43.53,0.95\n",
    "Glass,Metal,30.96,0.60\n",
    "Magnesium,Magnesium,30.96,0.60\n",
    "Steel,Steel,38.66,0.80\n",
    "Zinc,Zinc,30.96,0.60\n",
    "Teflon,Teflon,7.41,0.13\n",
    "\n",
    "Oil\n",
    "Material 1,Material2,Angle,Coefficient of Static Friction\n",
    "Brass,Steel,10.76,0.19\n",
    "Carbon,Carbon,7.41,0.13\n",
    "Cast Iron,Oak Wood,4.57,0.08\n",
    "Cast Iron,Steel,11.86,0.21\n",
    "Glass,Glass,16.70,0.30\n",
    "Glass,Metal,14.04,0.25\n",
    "Magnesium,Magnesium,4.52,0.08\n",
    "Steel,Steel,9.09,0.16\n",
    "Zinc,Zinc,2.29,0.04\n",
    "Teflon,Teflon,2.29,0.04\n",
    "```"
   ]
  }
 ],
 "metadata": {
  "kernelspec": {
   "display_name": "Python 3",
   "language": "python",
   "name": "python3"
  },
  "language_info": {
   "codemirror_mode": {
    "name": "ipython",
    "version": 3
   },
   "file_extension": ".py",
   "mimetype": "text/x-python",
   "name": "python",
   "nbconvert_exporter": "python",
   "pygments_lexer": "ipython3",
   "version": "3.8.8"
  }
 },
 "nbformat": 4,
 "nbformat_minor": 5
}
