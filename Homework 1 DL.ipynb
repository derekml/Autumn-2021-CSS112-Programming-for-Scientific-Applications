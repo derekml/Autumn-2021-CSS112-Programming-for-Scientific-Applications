{
 "cells": [
  {
   "cell_type": "markdown",
   "id": "ccaabecb",
   "metadata": {},
   "source": [
    "Problem 1: The molar mass of a compound is calculated by adding the atomic masses of all of the atoms in the molecule. The empirical formula for a family of organic molecules is CH$_4$. Calculate the molar mass of the empirical formula and display the molar mass of the first 5 additional members of this family.(i.e. C$_2$H$_8$, C$_3$H$_{12}$, etc.) Use an accumulator variable in your calculation."
   ]
  },
  {
   "cell_type": "code",
   "execution_count": 5,
   "id": "f1778d97",
   "metadata": {},
   "outputs": [
    {
     "name": "stdout",
     "output_type": "stream",
     "text": [
      "16.0427\n",
      "32.0854\n",
      "48.1281\n",
      "64.1708\n",
      "80.2135\n",
      "96.2562\n"
     ]
    }
   ],
   "source": [
    "## atomic mass in amu\n",
    "atomicmass_carbon = 12.0107\n",
    "atomicmass_hydrogen = 1.008\n",
    "molarmass = atomicmass_carbon + atomicmass_hydrogen\n",
    "\n",
    "## CH4\n",
    "atoms_carbon = 1\n",
    "atoms_hydrogen = 4\n",
    "molarmass = (atomicmass_carbon * atoms_carbon) + (atomicmass_hydrogen * atoms_hydrogen)\n",
    "print(molarmass)\n",
    "## C2H8\n",
    "atoms_carbon = atoms_carbon + 1\n",
    "atoms_hydrogen = atoms_hydrogen + 4\n",
    "molarmass = (atomicmass_carbon * atoms_carbon) + (atomicmass_hydrogen * atoms_hydrogen)\n",
    "print(molarmass)\n",
    "## C3H12\n",
    "atoms_carbon = atoms_carbon + 1\n",
    "atoms_hydrogen = atoms_hydrogen + 4\n",
    "molarmass = (atomicmass_carbon * atoms_carbon) + (atomicmass_hydrogen * atoms_hydrogen)\n",
    "print(molarmass)\n",
    "## C4H16\n",
    "atoms_carbon = atoms_carbon + 1\n",
    "atoms_hydrogen = atoms_hydrogen + 4\n",
    "molarmass = (atomicmass_carbon * atoms_carbon) + (atomicmass_hydrogen * atoms_hydrogen)\n",
    "print(molarmass)\n",
    "## C5H20\n",
    "atoms_carbon = atoms_carbon + 1\n",
    "atoms_hydrogen = atoms_hydrogen + 4\n",
    "molarmass = (atomicmass_carbon * atoms_carbon) + (atomicmass_hydrogen * atoms_hydrogen)\n",
    "print(molarmass)\n",
    "## C6H24\n",
    "atoms_carbon = atoms_carbon + 1\n",
    "atoms_hydrogen = atoms_hydrogen + 4\n",
    "molarmass = (atomicmass_carbon * atoms_carbon) + (atomicmass_hydrogen * atoms_hydrogen)\n",
    "print(molarmass)\n"
   ]
  },
  {
   "cell_type": "markdown",
   "id": "987dc21e",
   "metadata": {},
   "source": [
    "---"
   ]
  },
  {
   "cell_type": "markdown",
   "id": "49287be5",
   "metadata": {},
   "source": [
    "Problem 2: You are modeling the growth of bacteria. Assume that the population doubles with each generation, but due to the temperature of the culture, a fraction of the bacteria will die. The following equation estimates the living population after $n$ generations.\n",
    "\n",
    "$$N(n) = rN_{o}2^{n}$$\n",
    "\n",
    "$N(n)$ = Population size after $n$ generations  \n",
    "$r$ = Survival rate  \n",
    "$N_{0}$ = Initial population size  \n",
    "$n$ = Number of generations  \n",
    "\n",
    "You start with a culture of 43 bacteria that has a 95% survival rate at room temperature. You let the culture grow for 1 generation. Then you warm the culture at human body temperature for 5 generations. At human body temperature, the bacteria has a 99% survival rate. Finally, you move the culture to a fridge for 2 generations. In the fridge, the bacteria has a 12% survival rate. What is the final population size? Use an accumulator variable in your calculation."
   ]
  },
  {
   "cell_type": "code",
   "execution_count": 4,
   "id": "cfefb224",
   "metadata": {},
   "outputs": [
    {
     "name": "stdout",
     "output_type": "stream",
     "text": [
      "43\n",
      "81.7\n",
      "2588.256\n",
      "1242.36288\n",
      "The final population size of bacteria is 1242.36288\n"
     ]
    }
   ],
   "source": [
    "## starting culture\n",
    "n_population = 43\n",
    "print(n_population)\n",
    "\n",
    "## generation 1 at room temp\n",
    "r = 0.95\n",
    "n = 1\n",
    "n_population = r * n_population * (2**n)\n",
    "print(n_population)\n",
    "\n",
    "## generation 2-6 at human temp\n",
    "r = 0.99\n",
    "n = 5\n",
    "n_population = r * n_population * (2**n)\n",
    "print(n_population)\n",
    "\n",
    "## generation 7-8 at fridge temp\n",
    "r = 0.12\n",
    "n = 2\n",
    "n_population = r * n_population * (2**n)\n",
    "print(n_population)\n",
    "print('The final population size of bacteria is ' + str(n_population))"
   ]
  },
  {
   "cell_type": "markdown",
   "id": "ac6f9350",
   "metadata": {},
   "source": [
    "---"
   ]
  },
  {
   "cell_type": "markdown",
   "id": "b7c5b93f",
   "metadata": {},
   "source": [
    "Problem 3: Consider two masses, $m_1 = 2.3\\ \\mathrm{kg}$ and $m_2 =  4.5\\ \\mathrm{kg}$.  If the velocity of the first mass is $1.4\\ \\mathrm{m/s}$ towards the second mass, and the second mass is initially at rest, what is the speed $v$ of the combined masses if the two masses collide completely inelastically (i.e., they stick together after the collision)? Total momentum is conserved before and after the collision, so \n",
    "\n",
    "$$m_1 v_1 + m_2 v_2 = (m_1 + m_2) v,$$ \n",
    "\n",
    "and therefore, \n",
    "\n",
    "$$v=\\frac{m_1 v_1 + m_2 v_2}{m_1 + m_2}.$$"
   ]
  },
  {
   "cell_type": "code",
   "execution_count": 27,
   "id": "738043c7",
   "metadata": {},
   "outputs": [
    {
     "name": "stdout",
     "output_type": "stream",
     "text": [
      "The final speed of the combined masses is 0.47352941176470587 m/s\n"
     ]
    }
   ],
   "source": [
    "m1 = 2.3\n",
    "m2 = 4.5\n",
    "v1 = 1.4\n",
    "v2 = 0\n",
    "\n",
    "final_velocity = ((m1 * v1) + (m2 * v2)) / (m1 + m2)\n",
    "print('The final speed of the combined masses is ' + str(final_velocity) + ' m/s' )"
   ]
  },
  {
   "cell_type": "markdown",
   "id": "a0d418ab",
   "metadata": {},
   "source": [
    "---"
   ]
  },
  {
   "cell_type": "markdown",
   "id": "9f56047d",
   "metadata": {},
   "source": [
    "Problem 4: Write a function in the first cell that determines the elastic potential energy in a spring with spring constant $k = 250\\ \\mathrm{N/m}$ when a block attached to the spring is stretched and compressed to different positions away from equilibrium, $x_0 = 0\\ \\mathrm{m}$ (the user should provide the positions). Recall that elastic potential energy in a spring is: \n",
    "\n",
    "$$U = \\frac{1}{2}kx^2.$$ \n",
    "\n",
    "Have the function print the values of $k$ and $x$ as well as return the value of $U$. Use the function in the second cell."
   ]
  },
  {
   "cell_type": "code",
   "execution_count": 33,
   "id": "9f60f395",
   "metadata": {},
   "outputs": [],
   "source": [
    "def calc_elasticpotential(spring_constant,x):\n",
    "    U = 0.5 * spring_constant * x**2\n",
    "    print('k = ' + str(spring_constant) + ' N/m')\n",
    "    print('x = ' + str(x) + ' m')\n",
    "    return U"
   ]
  },
  {
   "cell_type": "code",
   "execution_count": 43,
   "id": "04f2678b",
   "metadata": {},
   "outputs": [
    {
     "name": "stdout",
     "output_type": "stream",
     "text": [
      "k = 250 N/m\n",
      "x = 10 m\n",
      "U = 12500.0 J\n"
     ]
    }
   ],
   "source": [
    "x = 10\n",
    "spring_constant = 250\n",
    "U = calc_elasticpotential(spring_constant,x)\n",
    "print('U = ' + str(U) + ' J')"
   ]
  },
  {
   "cell_type": "markdown",
   "id": "b7ef01e8",
   "metadata": {},
   "source": [
    "---"
   ]
  },
  {
   "cell_type": "markdown",
   "id": "3b39d9e4",
   "metadata": {},
   "source": [
    "Problem 5: A particular cell culture is known to contain the following amount of nucleotides per wet gram:\n",
    "\n",
    "| Nucleotide | Concentration $(\\mathrm{nmole}\\ \\mathrm{g}^{-1})$ |\n",
    "| :-------------: | :-----:|\n",
    "| ATP | 2659 |\n",
    "| CTP | 75 |\n",
    "| GTP | 440 |\n",
    "| UTP | 347 |\n",
    "\n",
    "Write a function that will take a given mass of cell culture as input and:\n",
    "\n",
    "1. Print the number of each nucleotide contained within that mass \n",
    "2. Return the total number of nucleotides, which is the sum of the number of each of the nucleotides\n",
    "\n",
    "Units of nmoles can be converted into number of molecules by multiplying by the Avogadro constant $(N_{A} = 6.022 \\times 10^{23}\\ \\mathrm{mol}^{-1})$, where the nano prefix n means $10^{-9}$.  That is, the total number of nucleotide molecules for a given nucleotide $(n_i)$ is:\n",
    "\n",
    "$$ n_i = m_\\mathrm{cell} \\times C_i \\times N_A \\times 10^{-9} $$\n",
    "\n",
    "where $m_\\mathrm{cell}$ is the mass of cell culture (g), $C_i$ is the concentration of a nucleotide $(\\mathrm{nmole}\\ \\mathrm{g}^{-1})$.\n",
    "\n",
    "Also, be sure to denote which nucleotide is associated with each value printed. This requires up to 8 `print` statements in the function. In the second cell, use the function to calculate the number of nucleotides in one gram of cell culture."
   ]
  },
  {
   "cell_type": "code",
   "execution_count": 63,
   "id": "f6a12f55",
   "metadata": {},
   "outputs": [],
   "source": [
    "def calc_nucleotides(mass):\n",
    "    avogadro_number = 6.022e23\n",
    "    atp_nucleotides = mass * 2659 * avogadro_number * 1e-9\n",
    "    print('ATP: ' + str(atp_nucleotides))\n",
    "    ctp_nucleotides = mass * 75 * avogadro_number * 1e-9\n",
    "    print('CTP: ' + str(ctp_nucleotides))\n",
    "    gtp_nucleotides = mass * 440 * avogadro_number * 1e-9\n",
    "    print('GTP: ' + str(gtp_nucleotides))\n",
    "    utp_nucleotides = mass * 347 * avogadro_number * 1e-9\n",
    "    print('UTP: ' + str(utp_nucleotides))\n",
    "    return atp_nucleotides + ctp_nucleotides + gtp_nucleotides + utp_nucleotides"
   ]
  },
  {
   "cell_type": "code",
   "execution_count": 64,
   "id": "0ea6f6ea",
   "metadata": {},
   "outputs": [
    {
     "name": "stdout",
     "output_type": "stream",
     "text": [
      "ATP: 1.6012498e+18\n",
      "CTP: 4.5165e+16\n",
      "GTP: 2.6496800000000003e+17\n",
      "UTP: 2.0896340000000003e+17\n"
     ]
    },
    {
     "data": {
      "text/plain": [
       "2.1203462e+18"
      ]
     },
     "execution_count": 64,
     "metadata": {},
     "output_type": "execute_result"
    }
   ],
   "source": [
    "calc_nucleotides(1)"
   ]
  },
  {
   "cell_type": "markdown",
   "id": "cc03a89d",
   "metadata": {},
   "source": [
    "---"
   ]
  },
  {
   "cell_type": "markdown",
   "id": "148e4995",
   "metadata": {},
   "source": [
    "Problem 6:  Write a function that will determine the activation energy of a reaction given that you know the reaction rate constants at two different temperatures.\n",
    "\n",
    "$$\\ln\\left(\\frac{k_1}{k_2}\\right) = \\frac{E_a}{R}\\left(\\frac{1}{T_2}-\\frac{1}{T_1}\\right)$$\n",
    "\n",
    "After algebraic re-arrangement, the equation for calculating the activation energy, $E_a$, is\n",
    "\n",
    "$$E_a = \\frac{R\\times ln\\frac{k_1}{k_2}}{\\left(\\frac{1}{T_2} - \\frac{1}{T_1}\\right)}$$\n",
    "\n",
    "When you are dealing with a complicated equation, it can be helpful to break it down into terms. In this case, we will use 2 terms.\n",
    "\n",
    "$$ term1 = R\\times ln\\frac{k_1}{k_2}$$\n",
    "$$ term2 = \\left(\\frac{1}{T_2} - \\frac{1}{T_1}\\right)$$\n",
    "\n",
    "The equation then simplifies to\n",
    "\n",
    "$$E_a = \\frac{term1}{term2}$$\n",
    "\n",
    "Use this method of simplification to write the function. In a second cell, use this function to calculate the activation energy (in kJ) for a reaction in which the reaction rate constant at $-35\\,^{\\circ}$C is $1.9 \\times 10^9\\, M^{-1} s^{-1}$ and the reaction rate constant at $25\\,^{\\circ}$C is $7.2 \\times 10^9\\, M^{-1} s^{-1}$.\n",
    "\n",
    "Note: The temperatures needed to be converted to Kelvin before sending them as arguments to the function.  $$K = ^{\\circ}C + 273.15$$\n",
    "\n",
    "Display the activation energy and then use `del` to delete the variable. Finally display the variable to show it has indeed been removed. "
   ]
  },
  {
   "cell_type": "code",
   "execution_count": 7,
   "id": "b3168602",
   "metadata": {},
   "outputs": [],
   "source": [
    "import numpy as np\n",
    "\n",
    "# K = rate constant\n",
    "# R = universal gas constant = 8.314 Joules*inversekelvin*inversemole\n",
    "# T = temperature in kelvin\n",
    "\n",
    "def activation_energy(temperature1,k1,temperature2,k2):\n",
    "    R = 8.314   ## Joules*inversekelvin*inversemole\n",
    "    R = 8.314 / 1000  ## Convert to KiloJoules*inversekelvin*inversemole\n",
    "    term1 = R * np.log(k1/k2)\n",
    "    term2 = (1/temperature2) - (1/temperature1)\n",
    "    E_a = term1 / term2\n",
    "    print(E_a)\n",
    "    return E_a"
   ]
  },
  {
   "cell_type": "code",
   "execution_count": 8,
   "id": "153d4d9f",
   "metadata": {},
   "outputs": [
    {
     "name": "stdout",
     "output_type": "stream",
     "text": [
      "13.107577858396628\n"
     ]
    }
   ],
   "source": [
    "temperature1 = -35 + 273.15\n",
    "temperature2 = 25 + 273.15\n",
    "k1 = 1.9e9\n",
    "k2 = 7.2e9\n",
    "\n",
    "E_a = activation_energy(temperature1,k1,temperature2,k2)"
   ]
  },
  {
   "cell_type": "code",
   "execution_count": 9,
   "id": "8aa93d8b",
   "metadata": {},
   "outputs": [
    {
     "name": "stdout",
     "output_type": "stream",
     "text": [
      "1st print: \n",
      "13.107577858396628\n",
      "2nd print: \n"
     ]
    },
    {
     "ename": "NameError",
     "evalue": "name 'E_a' is not defined",
     "output_type": "error",
     "traceback": [
      "\u001b[1;31m---------------------------------------------------------------------------\u001b[0m",
      "\u001b[1;31mNameError\u001b[0m                                 Traceback (most recent call last)",
      "\u001b[1;32m<ipython-input-9-3be12b73050a>\u001b[0m in \u001b[0;36m<module>\u001b[1;34m\u001b[0m\n\u001b[0;32m      3\u001b[0m \u001b[1;32mdel\u001b[0m\u001b[1;33m(\u001b[0m\u001b[0mE_a\u001b[0m\u001b[1;33m)\u001b[0m\u001b[1;33m\u001b[0m\u001b[1;33m\u001b[0m\u001b[0m\n\u001b[0;32m      4\u001b[0m \u001b[0mprint\u001b[0m\u001b[1;33m(\u001b[0m\u001b[1;34m'2nd print: '\u001b[0m\u001b[1;33m)\u001b[0m\u001b[1;33m\u001b[0m\u001b[1;33m\u001b[0m\u001b[0m\n\u001b[1;32m----> 5\u001b[1;33m \u001b[0mprint\u001b[0m\u001b[1;33m(\u001b[0m\u001b[0mE_a\u001b[0m\u001b[1;33m)\u001b[0m\u001b[1;33m\u001b[0m\u001b[1;33m\u001b[0m\u001b[0m\n\u001b[0m",
      "\u001b[1;31mNameError\u001b[0m: name 'E_a' is not defined"
     ]
    }
   ],
   "source": [
    "print('1st print: ')\n",
    "print(E_a)\n",
    "del(E_a)\n",
    "print('2nd print: ')\n",
    "print(E_a)"
   ]
  }
 ],
 "metadata": {
  "kernelspec": {
   "display_name": "Python 3",
   "language": "python",
   "name": "python3"
  },
  "language_info": {
   "codemirror_mode": {
    "name": "ipython",
    "version": 3
   },
   "file_extension": ".py",
   "mimetype": "text/x-python",
   "name": "python",
   "nbconvert_exporter": "python",
   "pygments_lexer": "ipython3",
   "version": "3.8.8"
  }
 },
 "nbformat": 4,
 "nbformat_minor": 5
}
